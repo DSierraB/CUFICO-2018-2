{
  "nbformat": 4,
  "nbformat_minor": 0,
  "metadata": {
    "colab": {
      "name": "Copia de HistogrammingInROOT.ipynb",
      "version": "0.3.2",
      "provenance": [],
      "collapsed_sections": [],
      "include_colab_link": true
    },
    "kernelspec": {
      "name": "python3",
      "display_name": "Python 3"
    }
  },
  "cells": [
    {
      "cell_type": "markdown",
      "metadata": {
        "id": "view-in-github",
        "colab_type": "text"
      },
      "source": [
        "<a href=\"https://colab.research.google.com/github/DanielEstrada971102/CUFICO-2018-2/blob/master/Parcial_1/JohanCarillo_DanielEstrada/Copia_de_HistogrammingInROOT.ipynb\" target=\"_parent\"><img src=\"https://colab.research.google.com/assets/colab-badge.svg\" alt=\"Open In Colab\"/></a>"
      ]
    },
    {
      "metadata": {
        "id": "l2Kx9iqQ4ToX",
        "colab_type": "text"
      },
      "cell_type": "markdown",
      "source": [
        "# With this notebook we will:\n",
        "## 1. Install packages needed for root\n",
        "## 2. Download a binary root that compiled in google drive \"colaboratory\" environement\n",
        "## 3. Modify the PATH in order to tell python where to look for pyROOT\n",
        "## 4. Finally, test ROOT installation with a simple example\n",
        "\n",
        "##### Autores: Daniel Estrada Acevedo y Johan Alexis Carrillo Toro\n",
        "##### Universidad de Antioquia\n"
      ]
    },
    {
      "metadata": {
        "id": "C1gPEaTg6fLl",
        "colab_type": "text"
      },
      "cell_type": "markdown",
      "source": [
        "### 1. Install packages needed for root"
      ]
    },
    {
      "metadata": {
        "id": "gYEA4UKNplb6",
        "colab_type": "code",
        "outputId": "d28dabfd-5220-4256-cb74-89d808335081",
        "colab": {
          "base_uri": "https://localhost:8080/",
          "height": 1267
        }
      },
      "cell_type": "code",
      "source": [
        "!apt-get install git dpkg-dev cmake g++ gcc binutils libx11-dev libxpm-dev libxft-dev libxext-dev tar gfortran subversion"
      ],
      "execution_count": 0,
      "outputs": [
        {
          "output_type": "stream",
          "text": [
            "Reading package lists... Done\n",
            "Building dependency tree       \n",
            "Reading state information... Done\n",
            "cmake is already the newest version (3.10.2-1ubuntu2).\n",
            "libxext-dev is already the newest version (2:1.3.3-1).\n",
            "libxext-dev set to manually installed.\n",
            "libxft-dev is already the newest version (2.3.2-1).\n",
            "binutils is already the newest version (2.30-21ubuntu1~18.04).\n",
            "binutils set to manually installed.\n",
            "dpkg-dev is already the newest version (1.19.0.5ubuntu2.1).\n",
            "dpkg-dev set to manually installed.\n",
            "g++ is already the newest version (4:7.3.0-3ubuntu2.1).\n",
            "g++ set to manually installed.\n",
            "gcc is already the newest version (4:7.3.0-3ubuntu2.1).\n",
            "gcc set to manually installed.\n",
            "gfortran is already the newest version (4:7.3.0-3ubuntu2.1).\n",
            "git is already the newest version (1:2.17.1-1ubuntu0.4).\n",
            "libx11-dev is already the newest version (2:1.6.4-3ubuntu0.1).\n",
            "libx11-dev set to manually installed.\n",
            "The following additional packages will be installed:\n",
            "  libapr1 libaprutil1 libserf-1-1 libsvn1\n",
            "Suggested packages:\n",
            "  db5.3-util libapache2-mod-svn subversion-tools ncompress tar-scripts tar-doc\n",
            "The following NEW packages will be installed:\n",
            "  libapr1 libaprutil1 libserf-1-1 libsvn1 libxpm-dev subversion\n",
            "The following packages will be upgraded:\n",
            "  tar\n",
            "1 upgraded, 6 newly installed, 0 to remove and 7 not upgraded.\n",
            "Need to get 2,558 kB of archives.\n",
            "After this operation, 10.1 MB of additional disk space will be used.\n",
            "Get:1 http://archive.ubuntu.com/ubuntu bionic-updates/main amd64 tar amd64 1.29b-2ubuntu0.1 [234 kB]\n",
            "Get:2 http://archive.ubuntu.com/ubuntu bionic/main amd64 libapr1 amd64 1.6.3-2 [90.9 kB]\n",
            "Get:3 http://archive.ubuntu.com/ubuntu bionic/main amd64 libaprutil1 amd64 1.6.1-2 [84.4 kB]\n",
            "Get:4 http://archive.ubuntu.com/ubuntu bionic/universe amd64 libserf-1-1 amd64 1.3.9-6 [44.4 kB]\n",
            "Get:5 http://archive.ubuntu.com/ubuntu bionic/universe amd64 libsvn1 amd64 1.9.7-4ubuntu1 [1,183 kB]\n",
            "Get:6 http://archive.ubuntu.com/ubuntu bionic/main amd64 libxpm-dev amd64 1:3.5.12-1 [87.4 kB]\n",
            "Get:7 http://archive.ubuntu.com/ubuntu bionic/universe amd64 subversion amd64 1.9.7-4ubuntu1 [834 kB]\n",
            "Fetched 2,558 kB in 2s (1,540 kB/s)\n",
            "(Reading database ... 131284 files and directories currently installed.)\n",
            "Preparing to unpack .../tar_1.29b-2ubuntu0.1_amd64.deb ...\n",
            "Unpacking tar (1.29b-2ubuntu0.1) over (1.29b-2) ...\n",
            "Setting up tar (1.29b-2ubuntu0.1) ...\n",
            "update-alternatives: warning: forcing reinstallation of alternative /usr/sbin/rmt-tar because link group rmt is broken\n",
            "Selecting previously unselected package libapr1:amd64.\n",
            "(Reading database ... 131284 files and directories currently installed.)\n",
            "Preparing to unpack .../0-libapr1_1.6.3-2_amd64.deb ...\n",
            "Unpacking libapr1:amd64 (1.6.3-2) ...\n",
            "Selecting previously unselected package libaprutil1:amd64.\n",
            "Preparing to unpack .../1-libaprutil1_1.6.1-2_amd64.deb ...\n",
            "Unpacking libaprutil1:amd64 (1.6.1-2) ...\n",
            "Selecting previously unselected package libserf-1-1:amd64.\n",
            "Preparing to unpack .../2-libserf-1-1_1.3.9-6_amd64.deb ...\n",
            "Unpacking libserf-1-1:amd64 (1.3.9-6) ...\n",
            "Selecting previously unselected package libsvn1:amd64.\n",
            "Preparing to unpack .../3-libsvn1_1.9.7-4ubuntu1_amd64.deb ...\n",
            "Unpacking libsvn1:amd64 (1.9.7-4ubuntu1) ...\n",
            "Selecting previously unselected package libxpm-dev:amd64.\n",
            "Preparing to unpack .../4-libxpm-dev_1%3a3.5.12-1_amd64.deb ...\n",
            "Unpacking libxpm-dev:amd64 (1:3.5.12-1) ...\n",
            "Selecting previously unselected package subversion.\n",
            "Preparing to unpack .../5-subversion_1.9.7-4ubuntu1_amd64.deb ...\n",
            "Unpacking subversion (1.9.7-4ubuntu1) ...\n",
            "Setting up libapr1:amd64 (1.6.3-2) ...\n",
            "Processing triggers for mime-support (3.60ubuntu1) ...\n",
            "Setting up libxpm-dev:amd64 (1:3.5.12-1) ...\n",
            "Processing triggers for libc-bin (2.27-3ubuntu1) ...\n",
            "Setting up libaprutil1:amd64 (1.6.1-2) ...\n",
            "Processing triggers for man-db (2.8.3-2ubuntu0.1) ...\n",
            "Setting up libserf-1-1:amd64 (1.3.9-6) ...\n",
            "Setting up libsvn1:amd64 (1.9.7-4ubuntu1) ...\n",
            "Setting up subversion (1.9.7-4ubuntu1) ...\n",
            "Processing triggers for libc-bin (2.27-3ubuntu1) ...\n"
          ],
          "name": "stdout"
        }
      ]
    },
    {
      "metadata": {
        "id": "3i5bTy4x601V",
        "colab_type": "text"
      },
      "cell_type": "markdown",
      "source": [
        "### 2. Mount the drive to get the root binary and untar it "
      ]
    },
    {
      "metadata": {
        "id": "gMhjqJ9noRcX",
        "colab_type": "code",
        "colab": {}
      },
      "cell_type": "code",
      "source": [
        "# Load the Drive helper and mount\n",
        "from google.colab import drive\n",
        "\n",
        "# This will prompt for authorization.\n",
        "drive.mount('/content/drive', force_remount=True)"
      ],
      "execution_count": 0,
      "outputs": []
    },
    {
      "metadata": {
        "id": "dt2PEUjQo0RY",
        "colab_type": "code",
        "colab": {}
      },
      "cell_type": "code",
      "source": [
        "# After executing the cell above, Drive\n",
        "# files will be present in \"/content/drive/My Drive\".\n",
        "!ls \"/content/drive/Team Drives/PyROOT_in_Google/\""
      ],
      "execution_count": 0,
      "outputs": []
    },
    {
      "metadata": {
        "id": "tRQGlQ4Hqau9",
        "colab_type": "code",
        "colab": {}
      },
      "cell_type": "code",
      "source": [
        "!tar -xf /content/drive/Team\\ Drives/PyROOT_in_Google/root_build_google_yikes.tar"
      ],
      "execution_count": 0,
      "outputs": []
    },
    {
      "metadata": {
        "id": "1nHFk9y68VVP",
        "colab_type": "text"
      },
      "cell_type": "markdown",
      "source": [
        "\n",
        "### 3. Modify the PATH in order to tell python where to look for pyROOT\n"
      ]
    },
    {
      "metadata": {
        "id": "N3ndoY6iu6_J",
        "colab_type": "code",
        "colab": {}
      },
      "cell_type": "code",
      "source": [
        "import sys\n",
        "sys.path.append(\"/content/root_build/\")\n",
        "sys.path.append(\"/content/root_build/bin/\")\n",
        "sys.path.append(\"/content/root_build/include/\")\n",
        "sys.path.append(\"/content/root_build/lib/\")"
      ],
      "execution_count": 0,
      "outputs": []
    },
    {
      "metadata": {
        "id": "lTFxGdo6v-vn",
        "colab_type": "code",
        "colab": {}
      },
      "cell_type": "code",
      "source": [
        "from ROOT import TCanvas, TH1F, TF1, TGraph\n",
        "import numpy as np\n",
        "from glob import glob\n",
        "from time import sleep"
      ],
      "execution_count": 0,
      "outputs": []
    },
    {
      "metadata": {
        "id": "SjzEDEA5-yYB",
        "colab_type": "code",
        "colab": {}
      },
      "cell_type": "code",
      "source": [
        "# Se cargan los datos como una matriz de 12*20 \n",
        "filenames = sorted(glob('drive/My Drive/Datos_TComputo/Tiempo_Computo_*.txt'))\n",
        "\n",
        "Datos = []\n",
        "\n",
        "for i in filenames:\n",
        "  Datos.append(np.loadtxt(fname = i, delimiter = ','))\n",
        "Datos = np.array(Datos)"
      ],
      "execution_count": 0,
      "outputs": []
    },
    {
      "metadata": {
        "id": "q03qqKe4--NP",
        "colab_type": "code",
        "colab": {}
      },
      "cell_type": "code",
      "source": [
        "# Se encuentra el maximo tiempo de computo para cada n\n",
        "\n",
        "T_max = []\n",
        "for i in range(0, 12):\n",
        "  T_max.append(max(Datos[i]))\n",
        "T_max = np.array(T_max)"
      ],
      "execution_count": 0,
      "outputs": []
    },
    {
      "metadata": {
        "id": "iaeWgwnHDtuC",
        "colab_type": "code",
        "outputId": "9c90e9a6-d164-4270-c8f3-60ee7ecda98b",
        "colab": {
          "base_uri": "https://localhost:8080/",
          "height": 2142
        }
      },
      "cell_type": "code",
      "source": [
        "# Se hacen 12 histogramas con los datos cargados de tiempos de computo\n",
        "mean_gauss = []\n",
        "for i in range(0, 12):\n",
        "  c = TCanvas('c', 'canvas', 600, 700)\n",
        "  gaus = TF1('f', 'gaus', min(Datos[i]),max(Datos[i])) # esta funcion se usara para hacer un ajuste gaussiano\n",
        "  histograma = TH1F('histograma', 'Tiempo De computo para n = %d'%(i*5), 20, min(Datos[i]),max(Datos[i]))\n",
        "  \n",
        "  for j in range(0,20):\n",
        "    histograma.Fill(Datos[i][j]) # se agregan los datos de tiempo de computo al histograma\n",
        "  \n",
        "  histograma.SetLineColor(2) \n",
        "  histograma.Draw()\n",
        "  \n",
        "  histograma.Fit('f') # se hace un fit del histograma con 'f' que corresponde a la funcion gaussiana\n",
        "  histograma.SetLineColor(3)\n",
        "  histograma.Draw('C')\n",
        "  \n",
        "  mean_gauss.append(gaus.GetParameter(1)) # se almacena el dato de fiteo que corresponde a la media de la distribucion\n",
        "  # gaussiana(representa el valor medio de estabilizacion del sistema), este se usara luego para graficas estos valores para cada n.\n",
        "  \n",
        "  c.SetGrid()\n",
        "  c.Update()\n",
        "  c.SaveAs(\"drive/My Drive/Imag_Parcial/Hist_gauss%d.png\"%(i))\n",
        "  \n",
        "mean_gauss = np.array(mean_gauss)"
      ],
      "execution_count": 0,
      "outputs": [
        {
          "output_type": "stream",
          "text": [
            " FCN=3.14545 FROM MIGRAD    STATUS=CONVERGED     279 CALLS         280 TOTAL\n",
            "                     EDM=1.06901e-08    STRATEGY= 1      ERROR MATRIX ACCURATE \n",
            "  EXT PARAMETER                                   STEP         FIRST   \n",
            "  NO.   NAME      VALUE            ERROR          SIZE      DERIVATIVE \n",
            "   1  Constant     1.30940e+00   1.33787e+00   3.27163e-04   3.07667e-05\n",
            "   2  Mean        -1.39843e-03   2.96475e-02   7.20752e-06   3.86722e-03\n",
            "   3  Sigma        1.08470e-02   1.08297e-02   1.52724e-02** at limit **\n",
            " FCN=5.72281 FROM HESSE     STATUS=NOT POSDEF     26 CALLS        1049 TOTAL\n",
            "                     EDM=3.29102e-06    STRATEGY= 1      ERR MATRIX NOT POS-DEF\n",
            "  EXT PARAMETER                APPROXIMATE        STEP         FIRST   \n",
            "  NO.   NAME      VALUE            ERROR          SIZE      DERIVATIVE \n",
            "   1  Constant     1.85287e+03   6.65209e+03   1.27755e-01  -1.97263e-06\n",
            "   2  Mean        -7.15874e-02   1.93546e-02   3.65889e-07  -6.66377e-01\n",
            "   3  Sigma        1.99301e-02   1.58138e-02   1.03900e-01  -1.73749e-04\n",
            " FCN=1.65294 FROM MIGRAD    STATUS=CALL LIMIT   1346 CALLS        1347 TOTAL\n",
            "                     EDM=0.0003414    STRATEGY= 1  ERROR MATRIX UNCERTAINTY  18.6 per cent\n",
            "  EXT PARAMETER                APPROXIMATE        STEP         FIRST   \n",
            "  NO.   NAME      VALUE            ERROR          SIZE      DERIVATIVE \n",
            "   1  Constant     3.85746e+05   1.66300e+06   1.72838e+04  -2.84402e-07\n",
            "   2  Mean        -9.96668e-03   1.00218e-02  -5.53458e-05  -1.41248e+02\n",
            "   3  Sigma        3.37737e-03   1.65529e-03   6.11655e-04  -4.72505e+00\n",
            " FCN=0.0686841 FROM MIGRAD    STATUS=CALL LIMIT   1350 CALLS        1351 TOTAL\n",
            "                     EDM=6.69013e-06    STRATEGY= 1  ERROR MATRIX UNCERTAINTY  39.9 per cent\n",
            "  EXT PARAMETER                APPROXIMATE        STEP         FIRST   \n",
            "  NO.   NAME      VALUE            ERROR          SIZE      DERIVATIVE \n",
            "   1  Constant     6.55745e+02   8.58916e+03   2.21877e+01  -2.33573e-05\n",
            "   2  Mean         1.08182e-01   2.23199e-01   5.80969e-04   1.77562e+00\n",
            "   3  Sigma        2.59723e-02   3.24628e-02   5.08553e-03  -1.00986e-01\n",
            " FCN=7.17726e-09 FROM HESSE     STATUS=NOT POSDEF     16 CALLS         112 TOTAL\n",
            "                     EDM=1.4338e-08    STRATEGY= 1      ERR MATRIX NOT POS-DEF\n",
            "  EXT PARAMETER                APPROXIMATE        STEP         FIRST   \n",
            "  NO.   NAME      VALUE            ERROR          SIZE      DERIVATIVE \n",
            "   1  Constant     2.27701e+01   8.00500e+01   5.10167e-04   2.10611e-05\n",
            "   2  Mean         3.41289e-02   4.74958e-02   3.24833e-07  -5.07850e-02\n",
            "   3  Sigma        1.27592e-02   2.32791e-02   6.02171e-06  -8.74514e-04\n",
            " FCN=0.0185135 FROM MIGRAD    STATUS=CALL LIMIT   1346 CALLS        1347 TOTAL\n",
            "                     EDM=1.18921e-05    STRATEGY= 1  ERROR MATRIX UNCERTAINTY  14.1 per cent\n",
            "  EXT PARAMETER                APPROXIMATE        STEP         FIRST   \n",
            "  NO.   NAME      VALUE            ERROR          SIZE      DERIVATIVE \n",
            "   1  Constant     1.35574e+03   1.42636e+04   2.45765e+01  -1.53317e-05\n",
            "   2  Mean        -2.12411e-01   4.95160e-01  -6.61999e-04  -8.68774e-01\n",
            "   3  Sigma        7.48161e-02   6.74926e-02   7.41612e-04  -2.68919e-01\n",
            " FCN=9.27299 FROM HESSE     STATUS=OK             16 CALLS         825 TOTAL\n",
            "                     EDM=6.18869e-06    STRATEGY= 1      ERROR MATRIX ACCURATE \n",
            "  EXT PARAMETER                                   STEP         FIRST   \n",
            "  NO.   NAME      VALUE            ERROR          SIZE      DERIVATIVE \n",
            "   1  Constant     1.38971e+01   1.71463e+02   1.38470e-03  -3.73178e-04\n",
            "   2  Mean        -2.59307e-01   1.57611e+00   7.64439e-06  -6.75259e-02\n",
            "   3  Sigma        1.56973e-01   1.58436e-01   1.62172e-04  -3.18733e-03\n",
            " FCN=6.96826 FROM MIGRAD    STATUS=CONVERGED     734 CALLS         735 TOTAL\n",
            "                     EDM=1.48754e-06    STRATEGY= 1      ERROR MATRIX ACCURATE \n",
            "  EXT PARAMETER                                   STEP         FIRST   \n",
            "  NO.   NAME      VALUE            ERROR          SIZE      DERIVATIVE \n",
            "   1  Constant     2.66527e+01   1.69934e+02   1.04611e-02  -1.19270e-04\n",
            "   2  Mean         8.08859e-01   9.49825e-01   5.93913e-05   2.22638e-02\n",
            "   3  Sigma        3.24940e-01   1.96084e-01   1.03077e-02  -1.59076e-04\n",
            " FCN=3.52203 FROM MIGRAD    STATUS=CONVERGED     107 CALLS         108 TOTAL\n",
            "                     EDM=2.23716e-07    STRATEGY= 1      ERROR MATRIX ACCURATE \n",
            "  EXT PARAMETER                                   STEP         FIRST   \n",
            "  NO.   NAME      VALUE            ERROR          SIZE      DERIVATIVE \n",
            "   1  Constant     1.42495e+00   5.45376e-01   3.75868e-04   1.40656e-03\n",
            "   2  Mean         1.03690e-03   8.43178e-05   8.52405e-08   2.96165e+00\n",
            "   3  Sigma        1.85145e-04   1.53014e-04   2.93899e-04   2.33966e-03\n",
            " FCN=2.09085 FROM MIGRAD    STATUS=CONVERGED    1059 CALLS        1060 TOTAL\n",
            "                     EDM=4.40941e-07    STRATEGY= 1  ERROR MATRIX UNCERTAINTY   2.9 per cent\n",
            "  EXT PARAMETER                                   STEP         FIRST   \n",
            "  NO.   NAME      VALUE            ERROR          SIZE      DERIVATIVE \n",
            "   1  Constant     2.93039e+02   6.60269e+02  -1.11621e-01  -1.79136e-05\n",
            "   2  Mean        -2.75053e-01   9.58708e-02  -1.09275e-05  -1.16957e-01\n",
            "   3  Sigma        1.34809e-01   7.44012e-02   7.70494e-03  -4.77471e-04\n",
            " FCN=5.05529 FROM MIGRAD    STATUS=CALL LIMIT   1350 CALLS        1351 TOTAL\n",
            "                     EDM=0.000362557    STRATEGY= 1  ERROR MATRIX UNCERTAINTY  26.7 per cent\n",
            "  EXT PARAMETER                APPROXIMATE        STEP         FIRST   \n",
            "  NO.   NAME      VALUE            ERROR          SIZE      DERIVATIVE \n",
            "   1  Constant     3.24448e+04   1.57079e+05   2.34715e+03  -2.22306e-06\n",
            "   2  Mean        -5.41329e+00   3.56151e+00  -2.09084e-02  -2.36509e-01\n",
            "   3  Sigma        1.28980e+00   1.17757e+00  -4.50035e-04  -6.01506e-01\n",
            " FCN=1.33967 FROM MIGRAD    STATUS=CALL LIMIT   1348 CALLS        1349 TOTAL\n",
            "                     EDM=0.000544371    STRATEGY= 1  ERROR MATRIX UNCERTAINTY  33.0 per cent\n",
            "  EXT PARAMETER                APPROXIMATE        STEP         FIRST   \n",
            "  NO.   NAME      VALUE            ERROR          SIZE      DERIVATIVE \n",
            "   1  Constant     8.95398e+04   3.83127e+05   3.98173e+03  -1.20619e-06\n",
            "   2  Mean        -3.46107e+00   2.30857e+00  -1.76154e-02  -5.53998e-01\n",
            "   3  Sigma        8.33486e-01   7.64456e-01   5.19337e-03  -9.55337e-01\n"
          ],
          "name": "stdout"
        },
        {
          "output_type": "stream",
          "text": [
            "Warning in <TCanvas::Constructor>: Deleting canvas with same name: c\n",
            "Warning in <TROOT::Append>: Replacing existing TH1: histograma (Potential memory leak).\n",
            "Info in <TCanvas::Print>: png file drive/My Drive/Imag_Parcial/Hist_gauss0.png has been created\n",
            "Warning in <TCanvas::Constructor>: Deleting canvas with same name: c\n",
            "Warning in <TROOT::Append>: Replacing existing TH1: histograma (Potential memory leak).\n",
            "Info in <TCanvas::Print>: png file drive/My Drive/Imag_Parcial/Hist_gauss1.png has been created\n",
            "Warning in <TCanvas::Constructor>: Deleting canvas with same name: c\n",
            "Warning in <TROOT::Append>: Replacing existing TH1: histograma (Potential memory leak).\n",
            "Warning in <Fit>: Abnormal termination of minimization.\n",
            "Info in <TCanvas::Print>: png file drive/My Drive/Imag_Parcial/Hist_gauss2.png has been created\n",
            "Warning in <TCanvas::Constructor>: Deleting canvas with same name: c\n",
            "Warning in <TROOT::Append>: Replacing existing TH1: histograma (Potential memory leak).\n",
            "Warning in <Fit>: Abnormal termination of minimization.\n",
            "Info in <TCanvas::Print>: png file drive/My Drive/Imag_Parcial/Hist_gauss3.png has been created\n",
            "Warning in <TCanvas::Constructor>: Deleting canvas with same name: c\n",
            "Warning in <TROOT::Append>: Replacing existing TH1: histograma (Potential memory leak).\n",
            "Info in <TCanvas::Print>: png file drive/My Drive/Imag_Parcial/Hist_gauss4.png has been created\n",
            "Warning in <TCanvas::Constructor>: Deleting canvas with same name: c\n",
            "Warning in <TROOT::Append>: Replacing existing TH1: histograma (Potential memory leak).\n",
            "Warning in <Fit>: Abnormal termination of minimization.\n",
            "Info in <TCanvas::Print>: png file drive/My Drive/Imag_Parcial/Hist_gauss5.png has been created\n",
            "Warning in <TCanvas::Constructor>: Deleting canvas with same name: c\n",
            "Warning in <TROOT::Append>: Replacing existing TH1: histograma (Potential memory leak).\n",
            "Info in <TCanvas::Print>: png file drive/My Drive/Imag_Parcial/Hist_gauss6.png has been created\n",
            "Warning in <TCanvas::Constructor>: Deleting canvas with same name: c\n",
            "Warning in <TROOT::Append>: Replacing existing TH1: histograma (Potential memory leak).\n",
            "Info in <TCanvas::Print>: png file drive/My Drive/Imag_Parcial/Hist_gauss7.png has been created\n",
            "Warning in <TCanvas::Constructor>: Deleting canvas with same name: c\n",
            "Warning in <TROOT::Append>: Replacing existing TH1: histograma (Potential memory leak).\n",
            "Info in <TCanvas::Print>: png file drive/My Drive/Imag_Parcial/Hist_gauss8.png has been created\n",
            "Warning in <TCanvas::Constructor>: Deleting canvas with same name: c\n",
            "Warning in <TROOT::Append>: Replacing existing TH1: histograma (Potential memory leak).\n",
            "Info in <TCanvas::Print>: png file drive/My Drive/Imag_Parcial/Hist_gauss9.png has been created\n",
            "Warning in <TCanvas::Constructor>: Deleting canvas with same name: c\n",
            "Warning in <TROOT::Append>: Replacing existing TH1: histograma (Potential memory leak).\n",
            "Warning in <Fit>: Abnormal termination of minimization.\n",
            "Info in <TCanvas::Print>: png file drive/My Drive/Imag_Parcial/Hist_gauss10.png has been created\n",
            "Warning in <TCanvas::Constructor>: Deleting canvas with same name: c\n",
            "Warning in <TROOT::Append>: Replacing existing TH1: histograma (Potential memory leak).\n",
            "Warning in <Fit>: Abnormal termination of minimization.\n",
            "Info in <TCanvas::Print>: png file drive/My Drive/Imag_Parcial/Hist_gauss11.png has been created\n"
          ],
          "name": "stderr"
        }
      ]
    },
    {
      "metadata": {
        "id": "QKNTw1Bp7kQ4",
        "colab_type": "code",
        "colab": {}
      },
      "cell_type": "code",
      "source": [
        "# Se define una funcion que apartir de dos arreglos de datos hace una grafica y un fit de estos y los guarda como archivo png, esta se usa para fitear \n",
        "# los tiempos maximos de computo y los valores medios de las guassianas.\n",
        "def Graph_and_Fit_arreglo(size, x, y, title, xAxis, yAxis, fit, nameImage):\n",
        "  c = TCanvas('c', 'title', 700, 600)\n",
        "\n",
        "  #x = np.array([5,10,15,20,25,30,35,40,45,50,55,60])\n",
        "  g = TGraph(size)\n",
        "  g.SetTitle(title)\n",
        "\n",
        "  for i in range(0,size):\n",
        "    g.SetPoint(i, x[i], y[i])\n",
        "\n",
        "  func = TF1('e', fit, min(x), max(x)) \n",
        "  g.Fit('e')\n",
        "\n",
        "  g.SetMarkerStyle(9)\n",
        "  c.SetGrid()\n",
        "  ejex = g.GetXaxis()\n",
        "  ejex.SetTitle(xAxis)\n",
        "  ejey = g.GetYaxis()\n",
        "  ejey.SetTitle(yAxis)\n",
        "  g.Draw('AP')\n",
        "  c.SaveAs('drive/My Drive/Imag_Parcial/' + nameImage + '.png')\n",
        "  "
      ],
      "execution_count": 0,
      "outputs": []
    },
    {
      "metadata": {
        "id": "FZftwmX6_zFK",
        "colab_type": "code",
        "outputId": "4049353e-6859-40fd-8a54-ff1a871bcd30",
        "colab": {
          "base_uri": "https://localhost:8080/",
          "height": 202
        }
      },
      "cell_type": "code",
      "source": [
        "# Se hace un fit para los datos de tiempos maximos de computo\n",
        "x = np.array([5,10,15,20,25,30,35,40,45,50,55,60])\n",
        "Graph_and_Fit_arreglo(12, x, T_max, 'Tiempos maximos de computo vs n', 'n', 'Tiempo maximo de computo', '[0] + [1]*exp([2]*x)', 'fit_Tiempos_maximos')"
      ],
      "execution_count": 0,
      "outputs": [
        {
          "output_type": "stream",
          "text": [
            "\n",
            "****************************************\n",
            "Minimizer is Minuit / Migrad\n",
            "Chi2                      =      0.13776\n",
            "NDf                       =            9\n",
            "Edm                       =  1.66116e-06\n",
            "NCalls                    =          464\n",
            "p0                        =    0.0234284   +/-   0.0642968   \n",
            "p1                        =    0.0012266   +/-   0.00315579  \n",
            "p2                        =     0.110222   +/-   0.0432127   \n"
          ],
          "name": "stdout"
        },
        {
          "output_type": "stream",
          "text": [
            "Info in <TCanvas::Print>: png file drive/My Drive/Imag_Parcial/fit_Tiempos_maximos.png has been created\n"
          ],
          "name": "stderr"
        }
      ]
    },
    {
      "metadata": {
        "id": "odzkNqNL7lTe",
        "colab_type": "text"
      },
      "cell_type": "markdown",
      "source": [
        "La función que ajusta los datos de máximo tiempo de computo es :\n",
        "$ T_{max}(n)\\approx 0.023 + 0.0012 e^{0.11n}$"
      ]
    },
    {
      "metadata": {
        "id": "hkBcIZroATsF",
        "colab_type": "code",
        "outputId": "9d4e6fb6-e180-4940-ff33-6ff2bc925876",
        "colab": {
          "base_uri": "https://localhost:8080/",
          "height": 202
        }
      },
      "cell_type": "code",
      "source": [
        "# Se hace un fit para los datos de valor medio de estabilizacion del sistema  \n",
        "Graph_and_Fit_arreglo(12, x, mean_gauss, 'Valor medio de estabilizacion vs n', 'n', 'valor medio de estabilizacion', '[0] + [1]*x + [2]* x**2', 'fit_valMed_estabilizacion')"
      ],
      "execution_count": 0,
      "outputs": [
        {
          "output_type": "stream",
          "text": [
            "\n",
            "****************************************\n",
            "Minimizer is Minuit / Migrad\n",
            "Chi2                      =      13.2657\n",
            "NDf                       =            9\n",
            "Edm                       =  2.86334e-21\n",
            "NCalls                    =           67\n",
            "p0                        =     -1.32704   +/-   1.25478     \n",
            "p1                        =     0.158932   +/-   0.0887573   \n",
            "p2                        =  -0.00337299   +/-   0.00132928  \n"
          ],
          "name": "stdout"
        },
        {
          "output_type": "stream",
          "text": [
            "Info in <TCanvas::Print>: png file drive/My Drive/Imag_Parcial/fit_valMed_estabilizacion.png has been created\n"
          ],
          "name": "stderr"
        }
      ]
    },
    {
      "metadata": {
        "id": "5_I40hhCFcT9",
        "colab_type": "code",
        "colab": {}
      },
      "cell_type": "code",
      "source": [
        ""
      ],
      "execution_count": 0,
      "outputs": []
    }
  ]
}